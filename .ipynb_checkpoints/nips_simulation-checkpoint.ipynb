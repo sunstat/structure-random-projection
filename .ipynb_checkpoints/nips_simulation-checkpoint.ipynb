{
 "cells": [
  {
   "cell_type": "code",
   "execution_count": 26,
   "metadata": {},
   "outputs": [],
   "source": [
    "import numpy as np\n",
    "import matplotlib.pyplot as plt\n",
    "import tensorly as tl\n",
    "from random_projection import random_matrix_generator\n",
    "from simulation import Simulation "
   ]
  },
  {
   "cell_type": "code",
   "execution_count": 27,
   "metadata": {},
   "outputs": [],
   "source": [
    "# Implementation of the geometric median from https://stackoverflow.com/questions/30299267/geometric-median-of-multidimensional-points/30299705#30299705\n",
    "import numpy as np\n",
    "from scipy.spatial.distance import cdist, euclidean\n",
    "# a = np.array([[2., 3., 8.], [10., 4., 3.], [58., 3., 4.], [34., 2., 43.]])\n",
    "\n",
    "def geometric_median(X, eps=1e-5):\n",
    "    # Compute the geometric median for a list of vectors (rows of X) with the algorithm in http://www.pnas.org/content/pnas/97/4/1423.full.pdf\n",
    "    y = np.mean(X, 0) \n",
    "    while True:\n",
    "        D = cdist(X, [y])\n",
    "        nonzeros = (D != 0)[:, 0]\n",
    "\n",
    "        Dinv = 1 / D[nonzeros]\n",
    "        Dinvs = np.sum(Dinv)\n",
    "        W = Dinv / Dinvs\n",
    "        T = np.sum(W * X[nonzeros], 0)\n",
    "\n",
    "        num_zeros = len(X) - np.sum(nonzeros)\n",
    "        if num_zeros == 0:\n",
    "            y1 = T\n",
    "        elif num_zeros == len(X):\n",
    "            return y\n",
    "        else:\n",
    "            R = (T - y) * Dinvs\n",
    "            r = np.linalg.norm(R)\n",
    "            rinv = 0 if r == 0 else num_zeros/r\n",
    "            y1 = max(0, 1-rinv)*T + min(1, rinv)*y\n",
    "\n",
    "        if euclidean(y, y1) < eps:\n",
    "            return y1\n",
    "\n",
    "        y = y1\n",
    "def geometric_median_matrices(Xs, eps = 1e-5): \n",
    "    # For all X_i in Xs, we want to apply the geometric median to every row at the same position of the matrix\n",
    "    result = np.zeros(Xs[0].shape)\n",
    "    num_rows = Xs[0].shape[0]\n",
    "    for i in range(num_rows):         \n",
    "        # Stack the ith row of all matrices in X\n",
    "        mat = np.stack([ Xs[j][i,:] for j in range(len(Xs))],0)\n",
    "        result[i,:] = geometric_median(mat, eps = eps)\n",
    "    return result"
   ]
  },
  {
   "cell_type": "code",
   "execution_count": 43,
   "metadata": {},
   "outputs": [],
   "source": [
    "def dim_reduce(X, k, rm_typ, krao = False, vr = False, vr_num = 5, num_runs = 100, seed = 1): \n",
    "    # Reduce the size of X via random projection from the left with num_runs simulations \n",
    "    '''\n",
    "    :param X: input matrix of size m x n \n",
    "    :param k: the reduced dimension\n",
    "    :param rm_typ: type of the projection matrix\n",
    "    :param krao: whether apply the Khatri-Rao map. Note, here for simplicity, I assume m = m_0*2 and the Khatri-Rao map becomes k by m_0 x k by m_0\n",
    "    :param vr: Variance Reduction. Whether apply variance \n",
    "    :param vr_num: Number of variance reduction iteration. Averaged by computing the geometric median\n",
    "    '''\n",
    "    np.random.seed(seed)\n",
    "    m, n = X.shape \n",
    "    if not vr: \n",
    "        vr_num = 1\n",
    "    # list of the reduced matrices over the data runs\n",
    "    reduced_mats = []\n",
    "    for i in range(num_runs): \n",
    "        for i in range(vr_num): \n",
    "            reduced_matvrs = []\n",
    "            if not krao: \n",
    "                # Reduced matrices at different iteration\n",
    "                reduced_matvrs.append(random_matrix_generator(k, m, rm_typ)/np.sqrt(k))\n",
    "            elif krao: \n",
    "                mat_kraos = []\n",
    "                mat_kraos.append(random_matrix_generator(k,int(np.sqrt(m)),rm_typ).T)\n",
    "                mat_kraos.append(random_matrix_generator(k,int(np.sqrt(m)),rm_typ).T)\n",
    "                mat_krao = tl.tenalg.khatri_rao(mat_kraos).T/np.sqrt(k)\n",
    "                reduced_matvrs.append(mat_krao)\n",
    "        reduced_mat = geometric_median_matrices(reduced_matvrs) \n",
    "        reduced_mats.append(reduced_mat)\n",
    "    return(np.meanreduced_mats) "
   ]
  },
  {
   "cell_type": "code",
   "execution_count": 35,
   "metadata": {},
   "outputs": [],
   "source": [
    "def compute_relerr(reduced_mats, origin_mat): \n",
    "    k = reduced_mat.shape[0]\n",
    "    return np.linalg.norm(reduced_mat)/np.linalg.norm(origin_mat)"
   ]
  },
  {
   "cell_type": "code",
   "execution_count": 65,
   "metadata": {},
   "outputs": [],
   "source": [
    "def nips_sims(X, ks, num_runs = 100, seed = 1):  \n",
    "    err_gs = []\n",
    "    err_sp1s = []\n",
    "    err_gprods = [] \n",
    "    err_gprod_vrs = [] \n",
    "    std_gs = []\n",
    "    std_sp1s = []\n",
    "    std_gprods = [] \n",
    "    std_gprod_vrs = [] \n",
    "    for k in ks:\n",
    "        sim_g = dim_reduce(X, k, 'g', krao = False, vr = False, vr_num = 5, num_runs = 100, seed = 1)\n",
    "        sim_sp1 = dim_reduce(X, k, 'sp1', krao = False, vr = False, vr_num = 5, num_runs = 100, seed = 1)\n",
    "        sim_gprod = dim_reduce(X, k, 'g', krao = True, vr = False, vr_num = 5, num_runs = 100, seed = 1)\n",
    "        sim_gprod_vr = dim_reduce(X, k, 'g', krao = True, vr = True, vr_num = 5, num_runs = 100, seed = 1)\n",
    "        def update_err_std(X, errs, stds, sim): \n",
    "            err = np.asarray([compute_relerr(i, X) for i in sim]) \n",
    "            errs.append(np.mean(err)) \n",
    "            stds.append(np.std(err))\n",
    "            return([errs, stds])\n",
    "        [err_gs, std_gs] = update_err_std(X,err_gs, std_gs,sim_g)\n",
    "        [err_sp1s, std_sp1s] = update_err_std(X,err_sp1s, std_sp1s,sim_sp1)\n",
    "        [err_gprods, std_gprods] = update_err_std(X,err_gprods, std_gprods,sim_gprod)\n",
    "        [err_gprod_vrs, std_gprod_vrs] = update_err_std(X,err_gprod_vrs, std_gprod_vrs,sim_gprod_vr)\n",
    "    return [[err_gs, err_sp1s, err_gprods, err_grod_vrs], [std_gs ,std_sp1s ,std_gprod,std_grod_vrs]]"
   ]
  },
  {
   "cell_type": "code",
   "execution_count": 66,
   "metadata": {},
   "outputs": [],
   "source": [
    "X = np.random.normal(0,1,(10000,10))\n",
    "ks = np.arange(10, 110,10)\n",
    "labels = ['Gaussian', 'Sparse Sign', 'Khatri-Rao', 'Khatri-Rao Variance Reduced'] \n",
    "name = ['g','sp1','gprod','gprod_vr']"
   ]
  },
  {
   "cell_type": "code",
   "execution_count": 67,
   "metadata": {},
   "outputs": [
    {
     "ename": "NameError",
     "evalue": "name 'sim_gprod_vr' is not defined",
     "output_type": "error",
     "traceback": [
      "\u001b[0;31m---------------------------------------------------------------------------\u001b[0m",
      "\u001b[0;31mNameError\u001b[0m                                 Traceback (most recent call last)",
      "\u001b[0;32m<ipython-input-67-73487f88a79e>\u001b[0m in \u001b[0;36m<module>\u001b[0;34m()\u001b[0m\n\u001b[0;32m----> 1\u001b[0;31m \u001b[0mnips_sims\u001b[0m\u001b[0;34m(\u001b[0m\u001b[0mX\u001b[0m\u001b[0;34m,\u001b[0m \u001b[0mks\u001b[0m\u001b[0;34m)\u001b[0m\u001b[0;34m\u001b[0m\u001b[0m\n\u001b[0m",
      "\u001b[0;32m<ipython-input-65-57f3f10209f1>\u001b[0m in \u001b[0;36mnips_sims\u001b[0;34m(X, ks, num_runs, seed)\u001b[0m\n\u001b[1;32m     21\u001b[0m         \u001b[0;34m[\u001b[0m\u001b[0merr_sp1s\u001b[0m\u001b[0;34m,\u001b[0m \u001b[0mstd_sp1s\u001b[0m\u001b[0;34m]\u001b[0m \u001b[0;34m=\u001b[0m \u001b[0mupdate_err_std\u001b[0m\u001b[0;34m(\u001b[0m\u001b[0mX\u001b[0m\u001b[0;34m,\u001b[0m\u001b[0merr_sp1s\u001b[0m\u001b[0;34m,\u001b[0m \u001b[0mstd_sp1s\u001b[0m\u001b[0;34m,\u001b[0m\u001b[0msim_sp1\u001b[0m\u001b[0;34m)\u001b[0m\u001b[0;34m\u001b[0m\u001b[0m\n\u001b[1;32m     22\u001b[0m         \u001b[0;34m[\u001b[0m\u001b[0merr_gprods\u001b[0m\u001b[0;34m,\u001b[0m \u001b[0mstd_gprods\u001b[0m\u001b[0;34m]\u001b[0m \u001b[0;34m=\u001b[0m \u001b[0mupdate_err_std\u001b[0m\u001b[0;34m(\u001b[0m\u001b[0mX\u001b[0m\u001b[0;34m,\u001b[0m\u001b[0merr_gprods\u001b[0m\u001b[0;34m,\u001b[0m \u001b[0mstd_gprods\u001b[0m\u001b[0;34m,\u001b[0m\u001b[0msim_gprod\u001b[0m\u001b[0;34m)\u001b[0m\u001b[0;34m\u001b[0m\u001b[0m\n\u001b[0;32m---> 23\u001b[0;31m         \u001b[0;34m[\u001b[0m\u001b[0merr_gprod_vrs\u001b[0m\u001b[0;34m,\u001b[0m \u001b[0mstd_gprod_vrs\u001b[0m\u001b[0;34m]\u001b[0m \u001b[0;34m=\u001b[0m \u001b[0mupdate_err_std\u001b[0m\u001b[0;34m(\u001b[0m\u001b[0mX\u001b[0m\u001b[0;34m,\u001b[0m\u001b[0merr_gprod_vrs\u001b[0m\u001b[0;34m,\u001b[0m \u001b[0mstd_gprod_vrs\u001b[0m\u001b[0;34m,\u001b[0m\u001b[0msim_gprod_vr\u001b[0m\u001b[0;34m)\u001b[0m\u001b[0;34m\u001b[0m\u001b[0m\n\u001b[0m\u001b[1;32m     24\u001b[0m     \u001b[0;32mreturn\u001b[0m \u001b[0;34m[\u001b[0m\u001b[0;34m[\u001b[0m\u001b[0merr_gs\u001b[0m\u001b[0;34m,\u001b[0m \u001b[0merr_sp1s\u001b[0m\u001b[0;34m,\u001b[0m \u001b[0merr_gprods\u001b[0m\u001b[0;34m,\u001b[0m \u001b[0merr_grod_vrs\u001b[0m\u001b[0;34m]\u001b[0m\u001b[0;34m,\u001b[0m \u001b[0;34m[\u001b[0m\u001b[0mstd_gs\u001b[0m \u001b[0;34m,\u001b[0m\u001b[0mstd_sp1s\u001b[0m \u001b[0;34m,\u001b[0m\u001b[0mstd_gprod\u001b[0m\u001b[0;34m,\u001b[0m\u001b[0mstd_grod_vrs\u001b[0m\u001b[0;34m]\u001b[0m\u001b[0;34m]\u001b[0m\u001b[0;34m\u001b[0m\u001b[0m\n",
      "\u001b[0;31mNameError\u001b[0m: name 'sim_gprod_vr' is not defined"
     ]
    }
   ],
   "source": [
    "nips_sims(X, ks)"
   ]
  },
  {
   "cell_type": "code",
   "execution_count": null,
   "metadata": {},
   "outputs": [],
   "source": [
    "def plot_nips_sims(ks, result, labels, name):\n",
    "    for i in len(result):\n",
    "        plt.errobbar(ks, results[2*i], 2*results[2*i + 1])"
   ]
  }
 ],
 "metadata": {
  "kernelspec": {
   "display_name": "Python 3",
   "language": "python",
   "name": "python3"
  },
  "language_info": {
   "codemirror_mode": {
    "name": "ipython",
    "version": 3
   },
   "file_extension": ".py",
   "mimetype": "text/x-python",
   "name": "python",
   "nbconvert_exporter": "python",
   "pygments_lexer": "ipython3",
   "version": "3.6.6"
  }
 },
 "nbformat": 4,
 "nbformat_minor": 2
}
