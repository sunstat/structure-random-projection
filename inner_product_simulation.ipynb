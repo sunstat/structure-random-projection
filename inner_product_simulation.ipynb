{
 "cells": [
  {
   "cell_type": "code",
   "execution_count": 24,
   "metadata": {},
   "outputs": [],
   "source": [
    "import mnist\n",
    "import scipy.misc\n",
    "import numpy as np\n",
    "import matplotlib.pyplot as plt\n",
    "import tensorly as tl\n",
    "from util import random_matrix_generator, square_tensor_gen, inner_product\n",
    "from simulation import Simulation, DimRedux, Simulations\n",
    "import pickle\n",
    "import matplotlib"
   ]
  },
  {
   "cell_type": "markdown",
   "metadata": {},
   "source": [
    "# MNIST"
   ]
  },
  {
   "cell_type": "code",
   "execution_count": 18,
   "metadata": {},
   "outputs": [],
   "source": [
    "k = 50\n",
    "d = 28*28\n",
    "train_images = mnist.train_images()\n",
    "train_x = train_images.reshape(train_images.shape[0], -1).T\n",
    "train_x = train_x[:,range(500)]"
   ]
  },
  {
   "cell_type": "code",
   "execution_count": 3,
   "metadata": {},
   "outputs": [],
   "source": [
    "# Normalization\n",
    "train_x = train_x/ np.linalg.norm(train_x, axis = 0, keepdims=True)"
   ]
  },
  {
   "cell_type": "code",
   "execution_count": 4,
   "metadata": {},
   "outputs": [],
   "source": [
    "mnist_gauss = DimRedux(\"g\", k, d)\n",
    "mnist_gauss_krao= DimRedux(\"g\", k, d, krao = True, krao_ms = [28, 28]) \n",
    "mnist_gauss_krao_vr = DimRedux(\"g\", k, d, krao = True, krao_ms = [28, 28], vr = True, vr_typ= \"mean\")\n",
    "mnist_sp0 = DimRedux(\"sp0\", k, d)\n",
    "mnist_sp0_krao= DimRedux(\"sp0\", k, d, krao = True, krao_ms = [28, 28]) \n",
    "mnist_sp0_krao_vr = DimRedux(\"sp0\", k, d, krao = True, krao_ms = [28, 28], vr = True, vr_typ= \"mean\")\n",
    "mnist_sp1 = DimRedux(\"sp1\", k, d)\n",
    "mnist_sp1_krao= DimRedux(\"sp1\", k, d, krao = True, krao_ms = [28, 28]) \n",
    "mnist_sp1_krao_vr = DimRedux(\"sp1\", k, d, krao = True, krao_ms = [28, 28], vr = True, vr_typ= \"mean\")"
   ]
  },
  {
   "cell_type": "code",
   "execution_count": 25,
   "metadata": {},
   "outputs": [],
   "source": [
    "def sim_inner(X, reduxs, num_runs = 100, seed = 1): \n",
    "    np.random.seed(seed)\n",
    "    d, n = X.shape\n",
    "    vnorm0 = np.linalg.norm(X, axis = 0, keepdims=True)\n",
    "    inner0 = (X.T @ X)/(vnorm0.T @ vnorm0)\n",
    "    result = []\n",
    "    for redux in reduxs:  \n",
    "        relerrs = []\n",
    "        for i in range(num_runs): \n",
    "            new_X, _ = redux.run(X)\n",
    "            vnorm = np.linalg.norm(new_X, axis = 0, keepdims=True)\n",
    "            inner = (new_X.T @ new_X)/(vnorm.T @ vnorm) \n",
    "            # Compute the RMSE \n",
    "            relerrs.append(np.linalg.norm(inner - inner0)/n) \n",
    "        # Average of the RMSE \n",
    "        err_mean = np.mean(np.sum(relerrs)/num_runs) \n",
    "        # Standard deviation of the RMSE over multiple number of runs \n",
    "        err_std = np.std(relerrs)\n",
    "        result.append((err_mean, err_std))  \n",
    "    return result"
   ]
  },
  {
   "cell_type": "code",
   "execution_count": 6,
   "metadata": {},
   "outputs": [],
   "source": [
    "inner_reduxes =[mnist_gauss ,mnist_gauss_krao,mnist_gauss_krao_vr,mnist_sp0 ,mnist_sp0_krao,mnist_sp0_krao_vr ,mnist_sp1 ,mnist_sp1_krao,mnist_sp1_krao_vr]"
   ]
  },
  {
   "cell_type": "code",
   "execution_count": 10,
   "metadata": {},
   "outputs": [],
   "source": [
    "mnist_inner_prod = sim_inner(train_x, inner_reduxes)"
   ]
  },
  {
   "cell_type": "code",
   "execution_count": 11,
   "metadata": {},
   "outputs": [],
   "source": [
    "pickle.dump(mnist_inner_prod, open(\"data/mnist_inner_prod.pickle\", \"wb\" ))"
   ]
  },
  {
   "cell_type": "code",
   "execution_count": 12,
   "metadata": {},
   "outputs": [],
   "source": [
    "mnist_inner_prod = pickle.load( open(\"data/mnist_inner_prod.pickle\", \"rb\" ) )"
   ]
  },
  {
   "cell_type": "code",
   "execution_count": 13,
   "metadata": {},
   "outputs": [
    {
     "data": {
      "text/plain": [
       "[(0.11979744039416458, 0.014739934480708991),\n",
       " (0.15396998132525824, 0.02904400820062613),\n",
       " (0.12619764940344858, 0.01656127330326858),\n",
       " (0.11983545088576258, 0.014977928254501198),\n",
       " (0.16091794359764408, 0.03347238665256662),\n",
       " (0.12644992366946498, 0.01941521805800803),\n",
       " (0.11888339149053177, 0.01081151315474027),\n",
       " (0.16623281790867842, 0.030713469132692725),\n",
       " (0.12758758154820446, 0.016384130207266027)]"
      ]
     },
     "execution_count": 13,
     "metadata": {},
     "output_type": "execute_result"
    }
   ],
   "source": [
    "mnist_inner_prod"
   ]
  },
  {
   "cell_type": "code",
   "execution_count": 20,
   "metadata": {},
   "outputs": [],
   "source": [
    "train_images = mnist.train_images()\n",
    "train_x = train_images.reshape(train_images.shape[0], -1).T"
   ]
  },
  {
   "cell_type": "markdown",
   "metadata": {},
   "source": [
    "# Simulation d = 10000 "
   ]
  },
  {
   "cell_type": "code",
   "execution_count": 29,
   "metadata": {},
   "outputs": [],
   "source": [
    "k = 50\n",
    "d = 10000 \n",
    "n = 100\n",
    "X = np.random.normal(size = (d,n)) \n",
    "\n",
    "sim_gauss = DimRedux(\"g\", k, d)\n",
    "sim_gauss_krao= DimRedux(\"g\", k, d, krao = True) \n",
    "sim_gauss_krao_vr = DimRedux(\"g\", k, d, krao = True, vr = True, vr_typ= \"mean\")\n",
    "sim_sp0 = DimRedux(\"sp0\", k, d)\n",
    "sim_sp0_krao= DimRedux(\"sp0\", k, d, krao = True) \n",
    "sim_sp0_krao_vr = DimRedux(\"sp0\", k, d, krao = True, vr = True, vr_typ= \"mean\")\n",
    "sim_sp1 = DimRedux(\"sp1\", k, d)\n",
    "sim_sp1_krao= DimRedux(\"sp1\", k, d, krao = True) \n",
    "sim_sp1_krao_vr = DimRedux(\"sp1\", k, d, krao = True, vr = True, vr_typ= \"mean\")"
   ]
  },
  {
   "cell_type": "code",
   "execution_count": 30,
   "metadata": {},
   "outputs": [],
   "source": [
    "inner_reduxes =[sim_gauss ,sim_gauss_krao,sim_gauss_krao_vr,sim_sp0 ,sim_sp0_krao,sim_sp0_krao_vr ,sim_sp1 ,sim_sp1_krao,sim_sp1_krao_vr]"
   ]
  },
  {
   "cell_type": "code",
   "execution_count": 31,
   "metadata": {},
   "outputs": [],
   "source": [
    "sim_inner_prod = sim_inner(X, inner_reduxes)"
   ]
  },
  {
   "cell_type": "code",
   "execution_count": 32,
   "metadata": {},
   "outputs": [],
   "source": [
    "pickle.dump(sim_inner_prod, open(\"data/sim_inner_prod_d10000.pickle\", \"wb\" ))"
   ]
  },
  {
   "cell_type": "code",
   "execution_count": 33,
   "metadata": {},
   "outputs": [],
   "source": [
    "sim_inner_prod = pickle.load(open(\"data/sim_inner_prod_d10000.pickle\", \"rb\" ))"
   ]
  },
  {
   "cell_type": "code",
   "execution_count": 34,
   "metadata": {},
   "outputs": [
    {
     "data": {
      "text/plain": [
       "[(0.14091160469007888, 0.0015081291753419963),\n",
       " (0.14313651514908776, 0.0016771323234725888),\n",
       " (0.1412697795187629, 0.001252726329577787),\n",
       " (0.1406774719480251, 0.0012915267306598845),\n",
       " (0.14313525600230242, 0.0015393014775945293),\n",
       " (0.14113261644352165, 0.0015256968841521922),\n",
       " (0.14122970658283335, 0.0014294558370729028),\n",
       " (0.15204905590610518, 0.0032561110287908862),\n",
       " (0.14267329649569932, 0.0014516155573996935)]"
      ]
     },
     "execution_count": 34,
     "metadata": {},
     "output_type": "execute_result"
    }
   ],
   "source": [
    "sim_inner_prod"
   ]
  },
  {
   "cell_type": "code",
   "execution_count": null,
   "metadata": {},
   "outputs": [],
   "source": []
  }
 ],
 "metadata": {
  "kernelspec": {
   "display_name": "Python 3",
   "language": "python",
   "name": "python3"
  },
  "language_info": {
   "codemirror_mode": {
    "name": "ipython",
    "version": 3
   },
   "file_extension": ".py",
   "mimetype": "text/x-python",
   "name": "python",
   "nbconvert_exporter": "python",
   "pygments_lexer": "ipython3",
   "version": "3.6.6"
  }
 },
 "nbformat": 4,
 "nbformat_minor": 2
}
