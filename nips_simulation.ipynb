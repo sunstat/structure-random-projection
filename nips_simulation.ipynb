{
 "cells": [
  {
   "cell_type": "code",
   "execution_count": 144,
   "metadata": {},
   "outputs": [],
   "source": [
    "import numpy as np\n",
    "import matplotlib.pyplot as plt\n",
    "import tensorly as tl\n",
    "from random_projection import random_matrix_generator\n",
    "from simulation import Simulation "
   ]
  },
  {
   "cell_type": "code",
   "execution_count": 145,
   "metadata": {},
   "outputs": [],
   "source": [
    "# Implementation of the geometric median from https://stackoverflow.com/questions/30299267/geometric-median-of-multidimensional-points/30299705#30299705\n",
    "import numpy as np\n",
    "from scipy.spatial.distance import cdist, euclidean\n",
    "# a = np.array([[2., 3., 8.], [10., 4., 3.], [58., 3., 4.], [34., 2., 43.]])\n",
    "\n",
    "def geometric_median(X, eps=1e-5):\n",
    "    # Compute the geometric median for a list of vectors (rows of X) with the algorithm in http://www.pnas.org/content/pnas/97/4/1423.full.pdf\n",
    "    y = np.mean(X, 0) \n",
    "    while True:\n",
    "        D = cdist(X, [y])\n",
    "        nonzeros = (D != 0)[:, 0]\n",
    "\n",
    "        Dinv = 1 / D[nonzeros]\n",
    "        Dinvs = np.sum(Dinv)\n",
    "        W = Dinv / Dinvs\n",
    "        T = np.sum(W * X[nonzeros], 0)\n",
    "\n",
    "        num_zeros = len(X) - np.sum(nonzeros)\n",
    "        if num_zeros == 0:\n",
    "            y1 = T\n",
    "        elif num_zeros == len(X):\n",
    "            return y\n",
    "        else:\n",
    "            R = (T - y) * Dinvs\n",
    "            r = np.linalg.norm(R)\n",
    "            rinv = 0 if r == 0 else num_zeros/r\n",
    "            y1 = max(0, 1-rinv)*T + min(1, rinv)*y\n",
    "        if euclidean(y, y1) < eps:\n",
    "            return y1\n",
    "        y = y1\n",
    "def geometric_median_matrices(Xs, eps = 1e-5): \n",
    "    # For all X_i in Xs, we want to apply the geometric median to every row at the same position of the matrix\n",
    "    result = np.zeros(Xs[0].shape)\n",
    "    num_rows = Xs[0].shape[0]\n",
    "    for i in range(num_rows):         \n",
    "        # Stack the ith row of all matrices in X\n",
    "        mat = np.stack([ Xs[j][i,:] for j in range(len(Xs))],0)\n",
    "        result[i,:] = geometric_median(mat, eps = eps)\n",
    "    return result"
   ]
  },
  {
   "cell_type": "code",
   "execution_count": 146,
   "metadata": {},
   "outputs": [],
   "source": [
    "def dim_reduce(X, k, rm_typ, krao = False, vr = False, vr_num = 5, num_runs = 100, seed = 1): \n",
    "    # Reduce the size of X via random projection from the left with num_runs simulations \n",
    "    '''\n",
    "    :param X: input matrix of size m x n \n",
    "    :param k: the reduced dimension\n",
    "    :param rm_typ: type of the projection matrix\n",
    "    :param krao: whether apply the Khatri-Rao map. Note, here for simplicity, I assume m = m_0*2 and the Khatri-Rao map becomes k by m_0 x k by m_0\n",
    "    :param vr: Variance Reduction. Whether apply variance \n",
    "    :param vr_num: Number of variance reduction iteration. Averaged by computing the geometric median\n",
    "    '''\n",
    "    np.random.seed(seed)\n",
    "    m, n = X.shape \n",
    "    if not vr: \n",
    "        vr_num = 1\n",
    "    # list of the reduced matrices over the data runs\n",
    "    reduced_mats = []\n",
    "    for i in range(num_runs): \n",
    "        for i in range(vr_num): \n",
    "            reduced_matvrs = []\n",
    "            if not krao: \n",
    "                # Reduced matrices at different iteration\n",
    "                reduced_matvrs.append(random_matrix_generator(k, m, rm_typ)/np.sqrt(k))\n",
    "            elif krao: \n",
    "                mat_kraos = []\n",
    "                mat_kraos.append(random_matrix_generator(k,int(np.sqrt(m)),rm_typ).T)\n",
    "                mat_kraos.append(random_matrix_generator(k,int(np.sqrt(m)),rm_typ).T)\n",
    "                mat_krao = tl.tenalg.khatri_rao(mat_kraos).T/np.sqrt(k)\n",
    "                reduced_matvrs.append(mat_krao)\n",
    "        reduced_mat = geometric_median_matrices(reduced_matvrs)*np.sqrt(vr_num)\n",
    "        reduced_mats.append(reduced_mat)\n",
    "    return(reduced_mats) "
   ]
  },
  {
   "cell_type": "code",
   "execution_count": 147,
   "metadata": {},
   "outputs": [],
   "source": [
    "def compute_relerr(reduced_mat, origin_mat): \n",
    "    k = reduced_mat.shape[0]\n",
    "    return np.linalg.norm(reduced_mat)/np.linalg.norm(origin_mat)"
   ]
  },
  {
   "cell_type": "code",
   "execution_count": 148,
   "metadata": {},
   "outputs": [],
   "source": [
    "def nips_sims(X, ks, num_runs = 100, seed = 1):  \n",
    "    err_gs = []\n",
    "    err_sp1s = []\n",
    "    err_gprods = [] \n",
    "    err_gprod_vrs = [] \n",
    "    std_gs = []\n",
    "    std_sp1s = []\n",
    "    std_gprods = [] \n",
    "    std_gprod_vrs = [] \n",
    "    for k in ks:\n",
    "        print(k)\n",
    "        sim_g = dim_reduce(X, k, 'g', krao = False, vr = False, vr_num = 5, num_runs = 100, seed = 1)\n",
    "        sim_sp1 = dim_reduce(X, k, 'sp1', krao = False, vr = False, vr_num = 5, num_runs = 100, seed = 1)\n",
    "        sim_gprod = dim_reduce(X, k, 'g', krao = True, vr = False, vr_num = 5, num_runs = 100, seed = 1)\n",
    "        sim_gprod_vr = dim_reduce(X, k, 'g', krao = True, vr = True, vr_num = 5, num_runs = 100, seed = 1)\n",
    "        def update_err_std(X, errs, stds, sim): \n",
    "            err = np.asarray([compute_relerr(i, X) for i in sim]) \n",
    "            errs = np.append(errs,np.mean(err)) \n",
    "            stds = np.append(stds,np.std(err))\n",
    "            return([errs, stds])\n",
    "        [err_gs, std_gs] = update_err_std(X,err_gs, std_gs,sim_g)\n",
    "        [err_sp1s, std_sp1s] = update_err_std(X,err_sp1s, std_sp1s,sim_sp1)\n",
    "        [err_gprods, std_gprods] = update_err_std(X,err_gprods, std_gprods,sim_gprod)\n",
    "        [err_gprod_vrs, std_gprod_vrs] = update_err_std(X,err_gprod_vrs, std_gprod_vrs,sim_gprod_vr)\n",
    "    return [[err_gs, err_sp1s, err_gprods, err_gprod_vrs], [std_gs ,std_sp1s ,std_gprods,std_gprod_vrs]]\n",
    "\n"
   ]
  },
  {
   "cell_type": "code",
   "execution_count": 149,
   "metadata": {},
   "outputs": [],
   "source": [
    "X = np.random.normal(0,1,(10000,10))\n",
    "ks = np.arange(10, 60,10)\n",
    "labels = ['Gaussian', 'Sparse Sign', 'Khatri-Rao', 'Khatri-Rao Variance Reduced'] \n",
    "name = ['g','sp1','gprod','gprod_vr']"
   ]
  },
  {
   "cell_type": "code",
   "execution_count": 150,
   "metadata": {},
   "outputs": [
    {
     "name": "stdout",
     "output_type": "stream",
     "text": [
      "10\n",
      "20\n",
      "30\n",
      "40\n",
      "50\n"
     ]
    }
   ],
   "source": [
    "results = nips_sims(X, ks)"
   ]
  },
  {
   "cell_type": "code",
   "execution_count": 151,
   "metadata": {},
   "outputs": [],
   "source": [
    "def plot_nips_sims(ks, result, labels, name):\n",
    "    plt.figure(figsize = (6,5))\n",
    "    for i in np.arange(4):\n",
    "        plt.errorbar(ks, results[0][i], 2*results[1][i],label = labels[i], capsize = 5) \n",
    "    plt.legend(loc = 'best')\n",
    "    plt.xlabel('Reduced dimension')\n",
    "    plt.ylabel('Relative Length after Transformation')\n",
    "    plt.title(title)\n",
    "#     plt.savefig('plots/'+name)\n",
    "    plt.show()"
   ]
  },
  {
   "cell_type": "code",
   "execution_count": 153,
   "metadata": {},
   "outputs": [
    {
     "data": {
      "text/plain": [
       "[[array([0.31624433, 0.31627479, 0.31627862, 0.31628233, 0.31628619]),\n",
       "  array([0.31535101, 0.31578872, 0.31644694, 0.31648818, 0.31643261]),\n",
       "  array([0.31484668, 0.31597421, 0.31576606, 0.31613447, 0.31597523]),\n",
       "  array([0.70518876, 0.70514207, 0.70528907, 0.70551286, 0.70648717])],\n",
       " [array([0.00072297, 0.000496  , 0.00035261, 0.00033507, 0.00028654]),\n",
       "  array([0.0045728 , 0.00343462, 0.00308827, 0.0026519 , 0.00222076]),\n",
       "  array([0.00868508, 0.00583423, 0.00546189, 0.00458334, 0.00416183]),\n",
       "  array([0.02031072, 0.01333689, 0.01287164, 0.01093685, 0.00941888])]]"
      ]
     },
     "execution_count": 153,
     "metadata": {},
     "output_type": "execute_result"
    }
   ],
   "source": [
    "results"
   ]
  },
  {
   "cell_type": "code",
   "execution_count": 152,
   "metadata": {
    "scrolled": true
   },
   "outputs": [
    {
     "ename": "NameError",
     "evalue": "name 'title' is not defined",
     "output_type": "error",
     "traceback": [
      "\u001b[0;31m---------------------------------------------------------------------------\u001b[0m",
      "\u001b[0;31mNameError\u001b[0m                                 Traceback (most recent call last)",
      "\u001b[0;32m<ipython-input-152-3f111a33612e>\u001b[0m in \u001b[0;36m<module>\u001b[0;34m()\u001b[0m\n\u001b[0;32m----> 1\u001b[0;31m \u001b[0mplot_nips_sims\u001b[0m\u001b[0;34m(\u001b[0m\u001b[0mks\u001b[0m\u001b[0;34m,\u001b[0m \u001b[0mresults\u001b[0m\u001b[0;34m,\u001b[0m \u001b[0;34m[\u001b[0m\u001b[0;36m1\u001b[0m\u001b[0;34m,\u001b[0m\u001b[0;36m2\u001b[0m\u001b[0;34m,\u001b[0m\u001b[0;36m3\u001b[0m\u001b[0;34m,\u001b[0m\u001b[0;36m4\u001b[0m\u001b[0;34m]\u001b[0m\u001b[0;34m,\u001b[0m\u001b[0;34m[\u001b[0m\u001b[0;36m1\u001b[0m\u001b[0;34m,\u001b[0m\u001b[0;36m2\u001b[0m\u001b[0;34m,\u001b[0m\u001b[0;36m3\u001b[0m\u001b[0;34m,\u001b[0m\u001b[0;36m4\u001b[0m\u001b[0;34m]\u001b[0m\u001b[0;34m)\u001b[0m\u001b[0;34m\u001b[0m\u001b[0m\n\u001b[0m",
      "\u001b[0;32m<ipython-input-151-b58efc69fa62>\u001b[0m in \u001b[0;36mplot_nips_sims\u001b[0;34m(ks, result, labels, name)\u001b[0m\n\u001b[1;32m      6\u001b[0m     \u001b[0mplt\u001b[0m\u001b[0;34m.\u001b[0m\u001b[0mxlabel\u001b[0m\u001b[0;34m(\u001b[0m\u001b[0;34m'Reduced dimension'\u001b[0m\u001b[0;34m)\u001b[0m\u001b[0;34m\u001b[0m\u001b[0m\n\u001b[1;32m      7\u001b[0m     \u001b[0mplt\u001b[0m\u001b[0;34m.\u001b[0m\u001b[0mylabel\u001b[0m\u001b[0;34m(\u001b[0m\u001b[0;34m'Relative Length after Transformation'\u001b[0m\u001b[0;34m)\u001b[0m\u001b[0;34m\u001b[0m\u001b[0m\n\u001b[0;32m----> 8\u001b[0;31m     \u001b[0mplt\u001b[0m\u001b[0;34m.\u001b[0m\u001b[0mtitle\u001b[0m\u001b[0;34m(\u001b[0m\u001b[0mtitle\u001b[0m\u001b[0;34m)\u001b[0m\u001b[0;34m\u001b[0m\u001b[0m\n\u001b[0m\u001b[1;32m      9\u001b[0m \u001b[0;31m#     plt.savefig('plots/'+name)\u001b[0m\u001b[0;34m\u001b[0m\u001b[0;34m\u001b[0m\u001b[0m\n\u001b[1;32m     10\u001b[0m     \u001b[0mplt\u001b[0m\u001b[0;34m.\u001b[0m\u001b[0mshow\u001b[0m\u001b[0;34m(\u001b[0m\u001b[0;34m)\u001b[0m\u001b[0;34m\u001b[0m\u001b[0m\n",
      "\u001b[0;31mNameError\u001b[0m: name 'title' is not defined"
     ]
    },
    {
     "data": {
      "image/png": "[encoded data removed]",
      "text/plain": [
       "<Figure size 432x360 with 1 Axes>"
      ]
     },
     "metadata": {
      "needs_background": "light"
     },
     "output_type": "display_data"
    }
   ],
   "source": [
    "plot_nips_sims(ks, results, [1,2,3,4],[1,2,3,4])"
   ]
  },
  {
   "cell_type": "code",
   "execution_count": null,
   "metadata": {
    "scrolled": true
   },
   "outputs": [],
   "source": [
    "results"
   ]
  }
 ],
 "metadata": {
  "kernelspec": {
   "display_name": "Python 3",
   "language": "python",
   "name": "python3"
  },
  "language_info": {
   "codemirror_mode": {
    "name": "ipython",
    "version": 3
   },
   "file_extension": ".py",
   "mimetype": "text/x-python",
   "name": "python",
   "nbconvert_exporter": "python",
   "pygments_lexer": "ipython3",
   "version": "3.6.6"
  }
 },
 "nbformat": 4,
 "nbformat_minor": 2
}
